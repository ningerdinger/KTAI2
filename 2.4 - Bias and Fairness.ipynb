{
 "cells": [
  {
   "cell_type": "markdown",
   "id": "0f1149cc-bc15-4719-8310-9e6a22ae441b",
   "metadata": {},
   "source": [
    "## Instructions\n",
    "* Read each cell and implement the **TODOs** sequentially. The markdown/text cells also contain instructions which you need to follow to get the whole notebook working.\n",
    "* Do not change the variable names unless the instructor allows you to.\n",
    "* Do not delete the **TODO** comment blocks.\n",
    "* Aside from the TODOs, there will be questions embedded in the notebook and a cell for you to provide your answer (denoted with A:). Answer all the markdown/text cells with **\"A: \"** on them. \n",
    "* You are expected to search how to some functions work on the Internet or via the docs. \n",
    "* You may add new cells for \"scrap work\".\n",
    "* The notebooks will undergo a \"Restart and Run All\" command, so make sure that your code is working properly.\n",
    "* You are expected to understand the data set loading and processing separately from this class.\n",
    "* You may not reproduce this notebook or share them to anyone."
   ]
  },
  {
   "cell_type": "markdown",
   "id": "930526df-13a9-4486-8f4b-a754c2eb4738",
   "metadata": {},
   "source": [
    "Place your answers to the questions directly inline on the same cell as **A:**\n",
    "\n",
    "For example:"
   ]
  },
  {
   "cell_type": "markdown",
   "id": "8277b5a3-2d69-432a-ab2c-bbe2486d61f3",
   "metadata": {},
   "source": [
    "<span style='color:red'>**Question 00:**</span> What is your favorite ice cream flavor?"
   ]
  },
  {
   "cell_type": "markdown",
   "id": "9d1f34a6-e3a6-41aa-b854-5f1786e58b3a",
   "metadata": {},
   "source": [
    "<span style='color:red'>**A00:**</span> My favorite flavor ice cream flavor is pistachio."
   ]
  },
  {
   "cell_type": "markdown",
   "id": "e59c69a8-dfa5-4fd1-8059-28b7aaeb5fff",
   "metadata": {},
   "source": [
    "# Assignment 2.4 - Bias and Fairness\n",
    "In this notebook, you will be experimenting on checking for fairness / disparity and some simple bias reduction techniques."
   ]
  },
  {
   "cell_type": "code",
   "execution_count": null,
   "id": "ac1c2956-3841-4298-8350-a9f74861d054",
   "metadata": {},
   "outputs": [],
   "source": [
    "import pandas as pd\n",
    "import numpy as np\n",
    "import matplotlib.pyplot as plt\n",
    "\n",
    "from sklearn.ensemble import RandomForestClassifier"
   ]
  },
  {
   "cell_type": "markdown",
   "id": "3cd831fc-47b1-4acc-8c8d-f55900f0403e",
   "metadata": {},
   "source": [
    "## Case Study: Project Proposal Filtering\n",
    "We want to build a model that determines the top 1000 (worst) project submissions that are **NOT** likely to get funded in order to prioritize resource allocation. We immediately reject them so that we don't have to waste resources and time in reviewing them.\n"
   ]
  },
  {
   "cell_type": "markdown",
   "id": "b9bd46c9-dbd6-42a5-9350-381dbe6339c1",
   "metadata": {},
   "source": [
    "Assume that we already have a trained model, the test data below shows the predictions of the model, the ground truth label, and some demographic information of the submitter."
   ]
  },
  {
   "cell_type": "code",
   "execution_count": null,
   "id": "5ac10d20-62f8-4c35-8401-9d817fe3ca06",
   "metadata": {},
   "outputs": [],
   "source": [
    "initial_preds_df = pd.read_csv('data/initial_predictions_df.csv.gz', compression='gzip')\n",
    "initial_preds_df"
   ]
  },
  {
   "cell_type": "markdown",
   "id": "5e017740-d589-480f-b783-eaadbc9b05e3",
   "metadata": {},
   "source": [
    "The `score` column represents the model prediction and the `label_value` is the ground truth label. "
   ]
  },
  {
   "cell_type": "markdown",
   "id": "3076ced0-21dc-4398-a44a-ea1f64eabc80",
   "metadata": {},
   "source": [
    "Given a dataframe of test predictions similar to the one shown above, let's compute the true positive rate (TPR) metric.\n",
    "\n",
    "True positive rate would indicate the fraction of true positives with respect to those labeled as positive.\n",
    "\n",
    "$$TPR = \\frac{TP}{TP + FN}$$\n",
    "\n",
    "Hint: This would be easier to compute if you add extra columns that compute first the true positive (TP), false positive (FP), false negative (FN), and true negative (TN)."
   ]
  },
  {
   "cell_type": "code",
   "execution_count": null,
   "id": "72d19835-dba1-4e70-9df2-27611d2acbca",
   "metadata": {},
   "outputs": [],
   "source": [
    "############################################################\n",
    "# TODO-01: Implement a function that computes the true     #\n",
    "# positive rate (TPR) given a dataframe of predictions.    #\n",
    "# You can assume that the predictions are always going do  #\n",
    "# be named `score`, but the target label column is a       #\n",
    "# parameter.                                               #\n",
    "############################################################\n",
    "def compute_tpr(df, target_col):\n",
    "    pass\n",
    "\n",
    "############################################################\n",
    "#                    End of your code.                     #\n",
    "############################################################"
   ]
  },
  {
   "cell_type": "code",
   "execution_count": null,
   "id": "29b14202-6012-422f-b25a-a2cf625d72b8",
   "metadata": {},
   "outputs": [],
   "source": [
    "print(\"True positive rate (TPR) =\", compute_tpr(initial_preds_df, target_col=\"label_value\") )"
   ]
  },
  {
   "cell_type": "markdown",
   "id": "219f646a-007b-4870-b3a4-bbd114840f57",
   "metadata": {},
   "source": [
    "Now, lets check if there is a big disparity between different groups.\n",
    "\n",
    "Let's first implement the function to compute TPR with respect to the grouping of interest.\n",
    "This would be fraction of true positives within the label positive entities of a group $g$.\n",
    "\n",
    "$$TPR_g = \\frac{TP_g}{TP_g + FN_g}$$\n",
    "\n",
    "Hint: You can do this by using groupby method of pandas dataframe followed by apply. Here are some resources related to this.\n",
    "- https://pandas.pydata.org/pandas-docs/version/0.22/generated/pandas.core.groupby.GroupBy.apply.html\n",
    "- https://pandas.pydata.org/docs/reference/api/pandas.core.groupby.DataFrameGroupBy.apply.html"
   ]
  },
  {
   "cell_type": "code",
   "execution_count": null,
   "id": "4e933802-8c14-4cc6-a9f2-421c9d6a681d",
   "metadata": {},
   "outputs": [],
   "source": [
    "############################################################\n",
    "# TODO-02: Implement a function that computes the true     #\n",
    "# positive rate (TPR) with respect to each group as        #\n",
    "# specified by the grouping column. You can assume that    #\n",
    "# the predictions are always going do be named `score`,    #\n",
    "# but the target label column is a parameter.              #\n",
    "############################################################\n",
    "\n",
    "def grouped_tpr(df, target_col, group_column):\n",
    "    pass\n",
    "\n",
    "\n",
    "############################################################\n",
    "#                    End of your code.                     #\n",
    "############################################################"
   ]
  },
  {
   "cell_type": "markdown",
   "id": "163481c6-3a91-40a8-b886-4be1fddf7116",
   "metadata": {},
   "source": [
    "Let's compute the amount of disparity. We define this as how many times smaller or larger is the metric than the reference group metric value. For example, if the reference group A is $1.0$ and the group B is $3.0$, then we say group B is $3$ times larger than the reference group A. If group C is $0.25$, then we say group C is $4$ times lower than the reference group A. To simplify things, we can use a negative sign to indicate that the value is smaller, i.e., $-4$ would mean that it is $4$ times lower. Note that this is only a simplifying convention, don't forget to take this convention into account in the your analysis and use absolute values when necessary.\n",
    "\n",
    "Hint: you can use `.index` to get the row index labels"
   ]
  },
  {
   "cell_type": "code",
   "execution_count": null,
   "id": "14c67503-6190-42b7-8608-bb8f844f394b",
   "metadata": {},
   "outputs": [],
   "source": [
    "############################################################\n",
    "# TODO-03: Implement a function that computes the disparity#\n",
    "# defined as how many times smaller or larger the metric   #\n",
    "# is for a particular group with respect to the reference  #\n",
    "# group. Store this in a dictionary disparity_group such   #\n",
    "# that disparity_group[group] = disparity.                 #\n",
    "############################################################\n",
    "\n",
    "def compute_disparity(metric_df, ref_group_label):\n",
    "    pass\n",
    "    \n",
    "############################################################\n",
    "#                    End of your code.                     #\n",
    "############################################################"
   ]
  },
  {
   "cell_type": "markdown",
   "id": "23ee0451-4116-47bd-99aa-e2a8e1ba69d0",
   "metadata": {},
   "source": [
    "Now, to determine if there is a significant disparity, we would need to define a tolerance threshold of disparity. For now, lets set this to be $\\text{tolerance} = 1.3$."
   ]
  },
  {
   "cell_type": "markdown",
   "id": "bb9c13fb-e891-4cd4-83ea-abbd18a76e71",
   "metadata": {},
   "source": [
    "<span style='color:red'>**TODO-04:**</span> Compute the group disparities for the property `poverty_level` with respect to the group `lower`."
   ]
  },
  {
   "cell_type": "code",
   "execution_count": null,
   "id": "64e8f096-7125-4f52-a279-5a1192ccce5a",
   "metadata": {},
   "outputs": [],
   "source": []
  },
  {
   "cell_type": "code",
   "execution_count": null,
   "id": "09c8978b-6414-494d-8755-296dd57d6c9c",
   "metadata": {},
   "outputs": [],
   "source": []
  },
  {
   "cell_type": "code",
   "execution_count": null,
   "id": "cab04ba5-a4a8-44ee-88ad-771557f747d6",
   "metadata": {},
   "outputs": [],
   "source": []
  },
  {
   "cell_type": "markdown",
   "id": "6a7bc307-6c9e-4a19-814d-233124f1e858",
   "metadata": {},
   "source": [
    "<span style='color:red'>**Question 01:**</span> Based on your results, is there a significant disparity between the `poverty_level` groups?"
   ]
  },
  {
   "cell_type": "markdown",
   "id": "d8a727de-2880-45af-b986-d1bcd80f6b8d",
   "metadata": {},
   "source": [
    "<span style='color:red'>**A01:**</span>"
   ]
  },
  {
   "cell_type": "markdown",
   "id": "565564b6-8787-4f57-9d6d-8ed1e40d2cdb",
   "metadata": {},
   "source": [
    "<span style='color:red'>**TODO-05:**</span> Compute the group disparities for the property `metro_type` with respect to the group `suburban_rural`."
   ]
  },
  {
   "cell_type": "code",
   "execution_count": null,
   "id": "7fd63489-6855-4202-a66e-c717066ba1b2",
   "metadata": {},
   "outputs": [],
   "source": []
  },
  {
   "cell_type": "code",
   "execution_count": null,
   "id": "d151ef75-3f2b-45e3-b43b-513a5a42d8d6",
   "metadata": {},
   "outputs": [],
   "source": []
  },
  {
   "cell_type": "code",
   "execution_count": null,
   "id": "62c18ba8-1f7c-46d4-9d38-d36a659f1f7c",
   "metadata": {},
   "outputs": [],
   "source": []
  },
  {
   "cell_type": "markdown",
   "id": "0296bc72-21fb-462b-8281-40f88bb67e49",
   "metadata": {},
   "source": [
    "<span style='color:red'>**Question 02:**</span> Based on your results, is there a significant disparity between the metro_type groups?"
   ]
  },
  {
   "cell_type": "markdown",
   "id": "5332b9a1-2eb1-4f4e-b3bd-84ea02a5b50e",
   "metadata": {},
   "source": [
    "<span style='color:red'>**A02:**</span>"
   ]
  },
  {
   "cell_type": "markdown",
   "id": "10993900-7cc4-4680-a07d-06debe30ef8e",
   "metadata": {},
   "source": [
    "<span style='color:red'>**TODO-06:**</span> Compute the group disparities for the property `teacher_sex` with respect to the group `male`."
   ]
  },
  {
   "cell_type": "code",
   "execution_count": null,
   "id": "53f0569d-c9a9-4ff6-927e-06602d17b66d",
   "metadata": {},
   "outputs": [],
   "source": []
  },
  {
   "cell_type": "code",
   "execution_count": null,
   "id": "ec8192f8-b814-4ce0-9c3a-bd1a544d4f32",
   "metadata": {},
   "outputs": [],
   "source": []
  },
  {
   "cell_type": "code",
   "execution_count": null,
   "id": "52720f69-44e1-4fd4-83e8-54b8ecbb06cb",
   "metadata": {},
   "outputs": [],
   "source": []
  },
  {
   "cell_type": "code",
   "execution_count": null,
   "id": "57a19419-91c7-40a4-8beb-a51401238bbf",
   "metadata": {},
   "outputs": [],
   "source": []
  },
  {
   "cell_type": "markdown",
   "id": "290f0367-6238-4e15-ba38-789fab1e235d",
   "metadata": {},
   "source": [
    "<span style='color:red'>**Question 03:**</span> Based on your results, is there a significant disparity between the `teacher_sex` groups?"
   ]
  },
  {
   "cell_type": "markdown",
   "id": "4f62e682-ef3d-439f-9a52-c5a9d8e94ad5",
   "metadata": {},
   "source": [
    "<span style='color:red'>**A03:**</span>"
   ]
  },
  {
   "cell_type": "markdown",
   "id": "a7d6929f-4415-41d3-a0e3-5793c19ca63b",
   "metadata": {},
   "source": [
    "# Bias reduction"
   ]
  },
  {
   "cell_type": "markdown",
   "id": "e16a5b90-ab72-469e-8626-e8362eb000bd",
   "metadata": {},
   "source": [
    "After checking for disparities, we want to retrain our model to reduce the disparity. Let's first load the datasets."
   ]
  },
  {
   "cell_type": "markdown",
   "id": "8abc3dda-c8f6-4816-9de0-cb5ce0a66246",
   "metadata": {},
   "source": [
    "There will be 2 sets of dataframes for train and for test. The first one is the input features and the second one are extra attributes."
   ]
  },
  {
   "cell_type": "code",
   "execution_count": null,
   "id": "b4c433c1-7fcc-4993-ae0d-6085667dfa51",
   "metadata": {},
   "outputs": [],
   "source": [
    "traindf = pd.read_csv('data/train_20120501_20120801.csv.gz', compression='gzip')\n",
    "train_attr_df = pd.read_csv('data/train_20120501_20120801_protected.csv.gz', compression='gzip')\n",
    "\n",
    "testdf = pd.read_csv('data/test_20121201_20130201.csv.gz', compression='gzip')\n",
    "test_attr_df = pd.read_csv('data/test_20121201_20130201_protected.csv.gz', compression='gzip')"
   ]
  },
  {
   "cell_type": "code",
   "execution_count": null,
   "id": "e8a6f3fb-d8b6-4e3e-9ee1-739f98059a35",
   "metadata": {},
   "outputs": [],
   "source": [
    "train_attr_df"
   ]
  },
  {
   "cell_type": "markdown",
   "id": "d8c9d812-4ad4-475f-918e-85e795d8a942",
   "metadata": {},
   "source": [
    "The target label column in this dataframe is `quickstart_label`."
   ]
  },
  {
   "cell_type": "markdown",
   "id": "f8e7af93-1769-4aba-bb09-87fe40fe03ec",
   "metadata": {},
   "source": [
    "We already provide functions below to train and test the model."
   ]
  },
  {
   "cell_type": "code",
   "execution_count": null,
   "id": "b6309257-0de8-4918-a618-1e70f11afe78",
   "metadata": {},
   "outputs": [],
   "source": [
    "def train_model(target_column, train_df):\n",
    "    hyperparameters = {\n",
    "        'n_jobs': -1,\n",
    "        'criterion': 'gini',\n",
    "        'max_depth': 30,\n",
    "        'max_features': 'sqrt',\n",
    "        'n_estimators': 87,\n",
    "        'random_state': 213500298,\n",
    "        'min_samples_leaf': 44,\n",
    "        'min_samples_split': 3\n",
    "    }\n",
    "    model = RandomForestClassifier(**hyperparameters)\n",
    "    \n",
    "    y_train = train_df[target_column].values\n",
    "    X_train = train_df.drop(['entity_id','as_of_date', target_column], axis = 1)\n",
    "    model.fit(X_train, y_train)\n",
    "\n",
    "    return model"
   ]
  },
  {
   "cell_type": "code",
   "execution_count": null,
   "id": "9067af40-88cd-4a5e-ba62-34214d61a751",
   "metadata": {},
   "outputs": [],
   "source": [
    "def test_model(model, target_column, test_df, test_attrdf):\n",
    "    X_test = test_df.drop(['entity_id','as_of_date',target_column], axis = 1)\n",
    "    y_pred = model.predict_proba(X_test)[:,1]\n",
    "    preds_df = test_df[['entity_id','as_of_date',target_column]].copy()\n",
    "    preds_df['predict_proba'] = y_pred\n",
    "    preds_df = preds_df.sort_values('predict_proba', ascending = False).reset_index(drop=True).copy()\n",
    "    preds_df['score'] = preds_df.apply(lambda x: 1.0 if int(x.name)  < 1000 else 0.0, axis=1) # As mentioned in the case study description above, we are only getting the top 1000 (worst) submissions to reject.\n",
    "    \n",
    "    return pd.merge(preds_df, test_attrdf, how='left', on=['entity_id','as_of_date'], sort=True, copy=True)"
   ]
  },
  {
   "cell_type": "code",
   "execution_count": null,
   "id": "55f603ee-669b-4aa6-959f-c26cf7d03b1f",
   "metadata": {},
   "outputs": [],
   "source": [
    "def compute_precision(preds_df, target_column):\n",
    "    return preds_df[preds_df['score'] > 0][target_column].mean()"
   ]
  },
  {
   "cell_type": "markdown",
   "id": "ef1f4072-d80f-42a8-906f-9aca6342ea00",
   "metadata": {},
   "source": [
    "## Bias reduction via Unawareness"
   ]
  },
  {
   "cell_type": "markdown",
   "id": "e579eb66-b960-4f76-a54b-aa88a9d5048e",
   "metadata": {},
   "source": [
    "Bias reduction via unawareness is simply removing the protected attributes so that the model has no access to these features. We'll look at only the poverty level for now."
   ]
  },
  {
   "cell_type": "code",
   "execution_count": null,
   "id": "5d4245d4-6a49-4b54-afb3-78c3d114d9d3",
   "metadata": {},
   "outputs": [],
   "source": [
    "protected_attributes = [\n",
    "    'project_features_entity_id_all_poverty_level_highpoverty',\n",
    "    'project_features_entity_id_all_poverty_level_highestpoverty',\n",
    "    'project_features_entity_id_all_poverty_level_lowpoverty',\n",
    "    'project_features_entity_id_all_poverty_level_moderatepoverty',\n",
    "]"
   ]
  },
  {
   "cell_type": "markdown",
   "id": "68773346-bd83-4a27-bb11-df9c52390652",
   "metadata": {},
   "source": [
    "<span style='color:red'>**TODO-07:**</span> Remove the protected attributes and train a new model. Compute the model's precision and also assess whether there are any disparities left for the poverty level groups with respect to true positive rates (TPR).\n",
    "\n",
    "You may add as many cells below as necessary."
   ]
  },
  {
   "cell_type": "code",
   "execution_count": null,
   "id": "d1faa866-d408-4c9f-96c5-6dc35a0db193",
   "metadata": {},
   "outputs": [],
   "source": []
  },
  {
   "cell_type": "code",
   "execution_count": null,
   "id": "6c4cf545-03ff-430f-ad2d-59ebd1edc0cb",
   "metadata": {},
   "outputs": [],
   "source": []
  },
  {
   "cell_type": "code",
   "execution_count": null,
   "id": "f61a7fc1-0224-4dc1-9f7f-dfd17873183e",
   "metadata": {},
   "outputs": [],
   "source": []
  },
  {
   "cell_type": "code",
   "execution_count": null,
   "id": "522dd83b-7c9b-41c3-888a-06e1debecb59",
   "metadata": {},
   "outputs": [],
   "source": []
  },
  {
   "cell_type": "code",
   "execution_count": null,
   "id": "4e040ec7-55aa-413b-95d7-292cf12119c5",
   "metadata": {},
   "outputs": [],
   "source": []
  },
  {
   "cell_type": "markdown",
   "id": "63233e43-5bb0-469f-891d-2ea8befc7f44",
   "metadata": {},
   "source": [
    "<span style='color:red'>**Question 04:**</span> Based on your experiment results, how effective is the strategy of unawareness? Explain your answer. "
   ]
  },
  {
   "cell_type": "markdown",
   "id": "f3dd3545-5c15-483b-9456-7b1161ec42e0",
   "metadata": {},
   "source": [
    "<span style='color:red'>**A04:**</span>"
   ]
  },
  {
   "cell_type": "markdown",
   "id": "497fe7f5-6d13-4a8e-a3f7-65ff1b1722d7",
   "metadata": {},
   "source": [
    "## Bias reduction via Resampling"
   ]
  },
  {
   "cell_type": "markdown",
   "id": "d34a3c71-04b8-4ab8-935f-4e10a8533350",
   "metadata": {},
   "source": [
    "Now let's try the resampling approach. The idea is to resample the training data points so that some statistic of the groups are equalized. Common statistics are group size and prevalence.\n",
    "\n",
    "Group size simply refers to the counts of the group.\n",
    "\n",
    "Prevalence on the other hand is the proportion of positive labels with respect to a group.\n",
    "$$\\text{Prevalance} = P(Y = 1 | \\text{Group} ) = \\frac{\\text{Number of positively labeled samples}} {\\text{Group size} }$$\n"
   ]
  },
  {
   "cell_type": "markdown",
   "id": "fa1a0cba-5c09-4ae9-8a48-777b96a91d61",
   "metadata": {},
   "source": [
    "<span style='color:red'>**TODO-08:**</span> Compute for the group sizes with respect to `poverty_level`."
   ]
  },
  {
   "cell_type": "code",
   "execution_count": null,
   "id": "2656563b-ebb8-4b96-a94c-d4de96531431",
   "metadata": {},
   "outputs": [],
   "source": []
  },
  {
   "cell_type": "code",
   "execution_count": null,
   "id": "ba99c4c2-98d3-4781-a7ae-6d10eab27820",
   "metadata": {},
   "outputs": [],
   "source": []
  },
  {
   "cell_type": "code",
   "execution_count": null,
   "id": "2285450d-714e-456e-b210-794bdf83d806",
   "metadata": {},
   "outputs": [],
   "source": []
  },
  {
   "cell_type": "markdown",
   "id": "e50d5ea4-52a9-4907-b596-32be9051e58b",
   "metadata": {},
   "source": [
    "<span style='color:red'>**TODO-09:**</span> Compute for the prevalence of each group with respect to `poverty_level`. \n",
    "\n",
    "Hint: It would be easier to do if you merge the `traindf` and `train_attr_df`. The `groupby` followed by `apply` done above is also useful for doing this."
   ]
  },
  {
   "cell_type": "code",
   "execution_count": null,
   "id": "3e33a843-f522-4223-add4-c3100adb4928",
   "metadata": {},
   "outputs": [],
   "source": []
  },
  {
   "cell_type": "code",
   "execution_count": null,
   "id": "34e43f3d-ad0f-417e-8fcd-84d4f4243f2e",
   "metadata": {},
   "outputs": [],
   "source": []
  },
  {
   "cell_type": "code",
   "execution_count": null,
   "id": "2c21a782-5037-4012-a4c6-2829c5cade39",
   "metadata": {},
   "outputs": [],
   "source": []
  },
  {
   "cell_type": "code",
   "execution_count": null,
   "id": "83cb725a-d0d5-4ffa-8490-eebcd7635af3",
   "metadata": {},
   "outputs": [],
   "source": []
  },
  {
   "cell_type": "markdown",
   "id": "826b31ea-37b4-45e8-a282-e48d95f81141",
   "metadata": {},
   "source": [
    "<span style='color:red'>**TODO-10:**</span> Resample the poverty level group `highest` to match the group size of the `lower` group. \n",
    "\n",
    "Hint: `numpy.random.choice` can be a useful function to use here.\n",
    "\n",
    "You may add as many cells below as necessary.\n"
   ]
  },
  {
   "cell_type": "code",
   "execution_count": null,
   "id": "ce2fa065-8bf7-4d95-8b94-41dca8360353",
   "metadata": {},
   "outputs": [],
   "source": [
    "# np.random.seed(0)"
   ]
  },
  {
   "cell_type": "code",
   "execution_count": null,
   "id": "766be76e-6f59-47fe-8d3d-61b789ab2378",
   "metadata": {},
   "outputs": [],
   "source": []
  },
  {
   "cell_type": "code",
   "execution_count": null,
   "id": "ce7abc43-0419-4df6-8769-02535e4728c2",
   "metadata": {},
   "outputs": [],
   "source": []
  },
  {
   "cell_type": "markdown",
   "id": "7995e3f9-316b-4d2c-9933-50d589554289",
   "metadata": {},
   "source": [
    "<span style='color:red'>**TODO-11:**</span> Retrain a model with the newly resampled dataset having equal group sizes. Then, analyze the performance and disparities. \n",
    "\n",
    "You may add as many cells below as necessary.\n"
   ]
  },
  {
   "cell_type": "markdown",
   "id": "73105929-8cd6-48d1-8282-039ce9c1d44b",
   "metadata": {},
   "source": [
    "**Note:** You should try this for 5 different random seeds (0,1,2,3,4) for the random sampling (previous TODO), so that you get a more stable estimate of the performance gains and reduce the influence of randomness."
   ]
  },
  {
   "cell_type": "code",
   "execution_count": null,
   "id": "eea279a0-4ac4-43be-adee-b9b35b03e501",
   "metadata": {},
   "outputs": [],
   "source": []
  },
  {
   "cell_type": "code",
   "execution_count": null,
   "id": "d827591b-7df2-4556-a3a6-9477241b7c10",
   "metadata": {},
   "outputs": [],
   "source": []
  },
  {
   "cell_type": "markdown",
   "id": "3a81bdfc-4241-447c-9eba-494409ffb9d5",
   "metadata": {},
   "source": [
    "<span style='color:red'>**TODO-12:**</span> Resample the poverty level group `highest` to match the prevalence of the `lower` group. \n",
    "\n",
    "Hint: `numpy.random.choice` can be a useful function to use here.\n",
    "\n",
    "You may add as many cells below as necessary."
   ]
  },
  {
   "cell_type": "code",
   "execution_count": null,
   "id": "9fbe4a96-c0c4-4f72-8654-1f70f4cbe57d",
   "metadata": {},
   "outputs": [],
   "source": [
    "# np.random.seed(0)"
   ]
  },
  {
   "cell_type": "code",
   "execution_count": null,
   "id": "b4000650-d9ef-4099-ac64-95d1d3f7ba46",
   "metadata": {},
   "outputs": [],
   "source": []
  },
  {
   "cell_type": "code",
   "execution_count": null,
   "id": "e713b8e6-57cb-44f9-b17a-a50d559ad8f1",
   "metadata": {},
   "outputs": [],
   "source": []
  },
  {
   "cell_type": "markdown",
   "id": "3232a28d-b8e8-429f-85ac-a5117711921d",
   "metadata": {},
   "source": [
    "<span style='color:red'>**TODO-13:**</span> Retrain a model with the newly resampled dataset having equal prevalence. Then, analyze the performance and disparities. \n",
    "\n",
    "You may add as many cells below as necessary."
   ]
  },
  {
   "cell_type": "markdown",
   "id": "4c5b3d50-957b-498e-bd15-b336c7f1bbf5",
   "metadata": {},
   "source": [
    "**Note:** You should try this for 5 different random seeds (0,1,2,3,4) for the random sampling (previous TODO), so that you get a more stable estimate of the performance gains and reduce the influence of randomness."
   ]
  },
  {
   "cell_type": "code",
   "execution_count": null,
   "id": "f1f287b6-88ae-4f76-9ed7-c05ea3a1ba9b",
   "metadata": {},
   "outputs": [],
   "source": []
  },
  {
   "cell_type": "code",
   "execution_count": null,
   "id": "1e9559b5-ce16-424b-9da6-e37919a77329",
   "metadata": {},
   "outputs": [],
   "source": []
  },
  {
   "cell_type": "code",
   "execution_count": null,
   "id": "1f3af28b-62fa-41e9-8124-a15648becca9",
   "metadata": {},
   "outputs": [],
   "source": []
  },
  {
   "cell_type": "code",
   "execution_count": null,
   "id": "7181116d-1cc0-41d6-a333-923b0290dcf7",
   "metadata": {},
   "outputs": [],
   "source": []
  },
  {
   "cell_type": "markdown",
   "id": "d0105c4f-6c50-48b0-8ba4-45fc730e6d36",
   "metadata": {},
   "source": [
    "<span style='color:red'>**TODO-14:**</span> Resample the poverty level group `highest` to match **BOTH** the group size and prevalence of the `lower` group. \n",
    "\n",
    "Hint: `numpy.random.choice` can be a useful function to use here.\n",
    "\n",
    "You may add as many cells below as necessary."
   ]
  },
  {
   "cell_type": "code",
   "execution_count": null,
   "id": "e84c62dd-d020-47f5-a473-c83d460352a5",
   "metadata": {},
   "outputs": [],
   "source": [
    "# np.random.seed(0)"
   ]
  },
  {
   "cell_type": "code",
   "execution_count": null,
   "id": "395113c2-e09d-4e60-a320-652670e4fcfa",
   "metadata": {},
   "outputs": [],
   "source": []
  },
  {
   "cell_type": "code",
   "execution_count": null,
   "id": "210212ae-d131-448b-a480-900f033cf420",
   "metadata": {},
   "outputs": [],
   "source": []
  },
  {
   "cell_type": "markdown",
   "id": "754ed947-a407-42fa-8804-b788a43c1a65",
   "metadata": {},
   "source": [
    "<span style='color:red'>**TODO-15:**</span> Retrain a model with the newly resampled dataset having equal group size and prevalence. Then, analyze the performance and disparities. \n",
    "\n",
    "You may add as many cells below as necessary."
   ]
  },
  {
   "cell_type": "markdown",
   "id": "c7f5720f-55b5-445c-9e79-2121eb9b7b2e",
   "metadata": {},
   "source": [
    "**Note:** You should try this for 5 different random seeds (0,1,2,3,4) for the random sampling (previous TODO), so that you get a more stable estimate of the performance gains and reduce the influence of randomness."
   ]
  },
  {
   "cell_type": "code",
   "execution_count": null,
   "id": "4a9326ea-4237-4f6d-9953-cf935f8ad292",
   "metadata": {},
   "outputs": [],
   "source": []
  },
  {
   "cell_type": "code",
   "execution_count": null,
   "id": "193ef6ac-2fd5-4874-b759-22e6dbe6cf66",
   "metadata": {},
   "outputs": [],
   "source": []
  },
  {
   "cell_type": "code",
   "execution_count": null,
   "id": "6afea08f-5aac-4dac-b5a4-dd70a06b9c28",
   "metadata": {},
   "outputs": [],
   "source": []
  },
  {
   "cell_type": "markdown",
   "id": "cd13ec07-3121-4805-a5f4-0ca99979b117",
   "metadata": {},
   "source": [
    "<span style='color:red'>**Question 05:**</span> Analyze the three different resampled datasets that you made and compare their performances to each other. How effective are they at reducing bias?"
   ]
  },
  {
   "cell_type": "markdown",
   "id": "3d653a87-c6f9-4a16-9b92-a300d5235475",
   "metadata": {},
   "source": [
    "<span style='color:red'>**A05:**</span>"
   ]
  },
  {
   "cell_type": "code",
   "execution_count": null,
   "id": "e9f5798b-3fdc-4eb7-9291-bd07c6ddedfe",
   "metadata": {},
   "outputs": [],
   "source": []
  },
  {
   "cell_type": "markdown",
   "id": "1f8fe9b7-a9b5-46cc-8c36-b604ffa02250",
   "metadata": {},
   "source": [
    "<span style='color:red'>**Question:**</span> How much time did it take you to answer this notebook?"
   ]
  },
  {
   "cell_type": "markdown",
   "id": "7e1298ad-47c5-4f00-97b7-2b77c1d845c2",
   "metadata": {},
   "source": [
    "<span style='color:red'>**A:**</span>"
   ]
  },
  {
   "cell_type": "markdown",
   "id": "15077098-7064-458d-b274-de11ecf3cb59",
   "metadata": {},
   "source": [
    "<span style='color:red'>**Question:**</span> What parts of the assignment did you like and what parts did you not like?"
   ]
  },
  {
   "cell_type": "markdown",
   "id": "3eda918d-ce5e-47cc-b7e6-635d55a52ad0",
   "metadata": {},
   "source": [
    "<span style='color:red'>**A:**</span>"
   ]
  },
  {
   "cell_type": "markdown",
   "id": "ef962497-055f-49b8-b969-dc1caef8f4ff",
   "metadata": {},
   "source": [
    "<span style='color:red'>**Question:**</span> How do you think it could be improved?"
   ]
  },
  {
   "cell_type": "markdown",
   "id": "9f3b0ec6-690a-47be-ad2c-235fcab68381",
   "metadata": {},
   "source": [
    "<span style='color:red'>**A:**</span>"
   ]
  },
  {
   "cell_type": "markdown",
   "id": "450bd232-eeaf-4ecd-a37d-a4b753b0930c",
   "metadata": {},
   "source": [
    "<span style='color:red'>**Question:**</span> Do you have any case studies in mind that would be nice to suggest / include in the assignment?"
   ]
  },
  {
   "cell_type": "markdown",
   "id": "ab12bb1f-9de5-4c9a-bdab-ade985caa463",
   "metadata": {},
   "source": [
    "<span style='color:red'>**A:**</span>"
   ]
  },
  {
   "cell_type": "code",
   "execution_count": null,
   "id": "651f3c1f-8442-4076-a074-c12fd082d403",
   "metadata": {},
   "outputs": [],
   "source": []
  }
 ],
 "metadata": {
  "kernelspec": {
   "display_name": "Python 3 (ipykernel)",
   "language": "python",
   "name": "python3"
  },
  "language_info": {
   "codemirror_mode": {
    "name": "ipython",
    "version": 3
   },
   "file_extension": ".py",
   "mimetype": "text/x-python",
   "name": "python",
   "nbconvert_exporter": "python",
   "pygments_lexer": "ipython3",
   "version": "3.10.14"
  }
 },
 "nbformat": 4,
 "nbformat_minor": 5
}
